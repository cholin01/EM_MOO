{
  "nbformat": 4,
  "nbformat_minor": 0,
  "metadata": {
    "colab": {
      "provenance": [],
      "gpuType": "T4",
      "toc_visible": true,
      "authorship_tag": "ABX9TyPoWpyWm3aPjP7aZfxYfFCN",
      "include_colab_link": true
    },
    "kernelspec": {
      "name": "python3",
      "display_name": "Python 3"
    },
    "language_info": {
      "name": "python"
    },
    "accelerator": "GPU"
  },
  "cells": [
    {
      "cell_type": "markdown",
      "metadata": {
        "id": "view-in-github",
        "colab_type": "text"
      },
      "source": [
        "<a href=\"https://colab.research.google.com/github/Dtkviewer/EMGNN/blob/main/EM_colab.ipynb\" target=\"_parent\"><img src=\"https://colab.research.google.com/assets/colab-badge.svg\" alt=\"Open In Colab\"/></a>"
      ]
    },
    {
      "cell_type": "code",
      "execution_count": null,
      "metadata": {
        "id": "6irigV30vSuZ"
      },
      "outputs": [],
      "source": [
        "# load\n",
        "from google.colab import drive\n",
        "drive.mount('/content/drive')"
      ]
    },
    {
      "cell_type": "code",
      "source": [
        "#Generate molecules\n",
        "%cd /content/drive/MyDrive/Colab Notebooks/EMGNN/RNN_generation\n",
        "!python launcher_of_clm.py"
      ],
      "metadata": {
        "id": "zXQnibQd6Ovo",
        "collapsed": true
      },
      "execution_count": null,
      "outputs": []
    },
    {
      "cell_type": "code",
      "source": [
        "#Predict BDE values\n",
        "%cd /content/drive/MyDrive/Colab Notebooks/EMGNN/BDE_model\n",
        "! pip install rdkit\n",
        "\n",
        "! python predict.py"
      ],
      "metadata": {
        "id": "qr3JRqzpz2t9",
        "collapsed": true
      },
      "execution_count": null,
      "outputs": []
    },
    {
      "cell_type": "code",
      "source": [
        "#Predict Q values\n",
        "%cd /content/drive/MyDrive/Colab Notebooks/EMGNN/Q_model/script\n",
        "!pip install torch-scatter\n",
        "!pip install torch_geometric\n",
        "!pip install torch-cluster\n",
        "!pip install ase\n",
        "!pip install torch-sparse\n",
        "!pip install rdkit\n",
        "\n",
        "! python finetuning_mdn.py"
      ],
      "metadata": {
        "id": "Q0YjYSCy-SRn",
        "collapsed": true
      },
      "execution_count": null,
      "outputs": []
    },
    {
      "cell_type": "code",
      "source": [
        "# Multi-objective optimization\n",
        "%cd /content/drive/MyDrive/Colab Notebooks/EMGNN/Multi_objective_optimization\n",
        "\n",
        "! python MTO.py"
      ],
      "metadata": {
        "id": "ZDdmZ4bY8SRD",
        "collapsed": true
      },
      "execution_count": null,
      "outputs": []
    }
  ]
}