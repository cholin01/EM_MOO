{
 "cells": [
  {
   "cell_type": "code",
   "execution_count": null,
   "metadata": {},
   "outputs": [],
   "source": [
    "import tool\n",
    "from tool import *\n",
    "import descriptors\n",
    "\n",
    "from rdkit import Chem\n",
    "from rdkit.Chem import AllChem, Draw\n",
    "\n",
    "from sklearn.gaussian_process import GaussianProcessRegressor\n",
    "from sklearn.gaussian_process.kernels import RBF, WhiteKernel\n",
    "from sklearn.kernel_ridge import KernelRidge\n",
    "from sklearn.model_selection import KFold, GridSearchCV\n",
    "\n",
    "import warnings\n",
    "import matplotlib\n",
    "from matplotlib import pyplot as plt\n",
    "import os\n",
    "import pandas as pd\n",
    "import numpy as np\n",
    "import joblib\n",
    "from tqdm import tqdm\n",
    "from itertools import chain\n",
    "from scipy.stats import norm\n",
    "import math\n",
    "import glob\n",
    "\n",
    "import tensorflow as tf\n",
    "from tensorflow import keras\n",
    "from tensorflow.keras.models import load_model"
   ]
  },
  {
   "cell_type": "code",
   "execution_count": null,
   "metadata": {},
   "outputs": [],
   "source": [
    "Y1 = np.load(\"./results/pred_Q.npy\")\n",
    "Y2 = np.load(\"./results/pred_bde.npy\")\n",
    "Y2res = Y2[:,0]\n",
    "Y2res\n",
    "Y1res = Y1[:,0]\n",
    "Y1res\n",
    "inputPoints = [list(item) for item in zip(Y1res, Y2res)]"
   ]
  },
  {
   "cell_type": "markdown",
   "metadata": {},
   "source": [
    "### 2D_PI in target area"
   ]
  },
  {
   "cell_type": "code",
   "execution_count": null,
   "metadata": {},
   "outputs": [],
   "source": [
    "s1 = Y1[:,1]\n",
    "means1 = Y1[:,0]\n",
    "\n",
    "s2 = Y2[:,1]\n",
    "means2 = Y2[:,0]\n",
    "\n",
    "PI1 = norm.cdf((1896 - means1)/s1) + norm.cdf((120 - means2)/s2) - (norm.cdf((1800 - means1)/s1))*(norm.cdf((120 - means2)/s2))\n",
    " \n",
    "PI2 = norm.cdf((1896 - means1)/s1) + norm.cdf((450 - means2)/s2) - (norm.cdf((1800 - means1)/s1))*(norm.cdf((400 - means2)/s2))\n",
    "PI = PI2 - PI1\n",
    "PI"
   ]
  },
  {
   "cell_type": "code",
   "execution_count": null,
   "metadata": {},
   "outputs": [],
   "source": [
    "idx1 = np.argsort(PI)[::-1][:2000]\n",
    "\n",
    "# 打印前十个最大值及其索引\n",
    "print(\"前2000个最大值：\", PI[idx1])\n",
    "print(\"索引：\", idx1)\n",
    "\n",
    "da = pd.read_csv('data/gutl_gen100w_01.csv')\n",
    "dat = da['smiles']\n",
    "print(dat[idx1])"
   ]
  }
 ],
 "metadata": {
  "kernelspec": {
   "display_name": "Python 3",
   "language": "python",
   "name": "python3"
  },
  "language_info": {
   "codemirror_mode": {
    "name": "ipython",
    "version": 3
   },
   "file_extension": ".py",
   "mimetype": "text/x-python",
   "name": "python",
   "nbconvert_exporter": "python",
   "pygments_lexer": "ipython3",
   "version": "3.7.3"
  }
 },
 "nbformat": 4,
 "nbformat_minor": 4
}
